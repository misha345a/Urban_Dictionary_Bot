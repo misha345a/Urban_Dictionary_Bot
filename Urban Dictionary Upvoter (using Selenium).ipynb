{
 "cells": [
  {
   "cell_type": "markdown",
   "metadata": {},
   "source": [
    "# Urban Dictionary Upvoter (using Selenium)\n",
    "\n",
    "***"
   ]
  },
  {
   "cell_type": "code",
   "execution_count": null,
   "metadata": {},
   "outputs": [],
   "source": [
    "# import libraries\n",
    "import time\n",
    "from selenium import webdriver\n",
    "from selenium.webdriver.common.keys import Keys"
   ]
  },
  {
   "cell_type": "code",
   "execution_count": null,
   "metadata": {},
   "outputs": [],
   "source": [
    "def search_term():\n",
    "\n",
    "    # retrieve user input\n",
    "    search_term = input(\"Enter something to search: \").strip()\n",
    "\n",
    "    run_query(search_term)"
   ]
  },
  {
   "cell_type": "code",
   "execution_count": null,
   "metadata": {},
   "outputs": [],
   "source": [
    "def run_query(search_term):\n",
    "\n",
    "    # launch the WebDriver\n",
    "    path_to_chromedriver = \"\\\\ChromeDriver\\\\chromedriver.exe\" # EDIT PATH TO WEBDRIVER HERE\n",
    "    driver = webdriver.Chrome(executable_path=path_to_chromedriver)\n",
    "\n",
    "    # open UrbanDictionary.com in the browser\n",
    "    driver.execute_script(\"window.focus();\")\n",
    "    driver.maximize_window()\n",
    "    driver.get(url=\"https://www.urbandictionary.com\")\n",
    "    time.sleep(3)\n",
    "\n",
    "    # locate the website's search bar\n",
    "    searchBar = driver.find_element_by_id(\"term\")\n",
    "\n",
    "    # clear any pre-populated text\n",
    "    searchBar.clear()\n",
    "    \n",
    "    #TODO -- handle any popups\n",
    "\n",
    "    # enter the user's inputted search term\n",
    "    searchBar.send_keys(search_term)\n",
    "    searchBar.send_keys(Keys.ENTER)\n",
    "    time.sleep(2)\n",
    "\n",
    "    # click the upvote button \n",
    "    try:\n",
    "        elem_UpVote = driver.find_element_by_class_name(\"up\")\n",
    "        elem_UpVote.click()\n",
    "        print(\"Upvoted successfully!\")\n",
    "        time.sleep(5)\n",
    "    except:\n",
    "        print(\"Sorry, '{}' was not found on Urban Dictionary.\".format(search_term))\n",
    "        time.sleep(5)                \n",
    "\n",
    "    #TODO -- print out term meaning and examples\n",
    "        \n",
    "    # close the browser\n",
    "    driver.close()"
   ]
  },
  {
   "cell_type": "code",
   "execution_count": null,
   "metadata": {},
   "outputs": [],
   "source": [
    "search_term()"
   ]
  },
  {
   "cell_type": "code",
   "execution_count": null,
   "metadata": {},
   "outputs": [],
   "source": []
  }
 ],
 "metadata": {
  "kernelspec": {
   "display_name": "Python 3 (ipykernel)",
   "language": "python",
   "name": "python3"
  },
  "language_info": {
   "codemirror_mode": {
    "name": "ipython",
    "version": 3
   },
   "file_extension": ".py",
   "mimetype": "text/x-python",
   "name": "python",
   "nbconvert_exporter": "python",
   "pygments_lexer": "ipython3",
   "version": "3.7.3"
  }
 },
 "nbformat": 4,
 "nbformat_minor": 2
}
